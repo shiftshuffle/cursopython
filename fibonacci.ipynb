{
 "cells": [
  {
   "cell_type": "markdown",
   "metadata": {},
   "source": [
    "# Fibonacci Ratios"
   ]
  },
  {
   "cell_type": "markdown",
   "metadata": {},
   "source": [
    "$ \\displaystyle \\lim_{n \\to \\infty} \\frac{ F_{n+a} }{ F_n } = \\varphi^{a}      $"
   ]
  },
  {
   "cell_type": "code",
   "execution_count": 1,
   "metadata": {
    "collapsed": true
   },
   "outputs": [],
   "source": [
    "def fib(n):\n",
    "    f=[0,1]\n",
    "    for i in range(n-1):\n",
    "        c=f[i]+f[i+1]\n",
    "        f.append(c)\n",
    "    return(f[n])"
   ]
  },
  {
   "cell_type": "code",
   "execution_count": 2,
   "metadata": {
    "collapsed": false
   },
   "outputs": [
    {
     "data": {
      "text/plain": [
       "1"
      ]
     },
     "execution_count": 2,
     "metadata": {},
     "output_type": "execute_result"
    }
   ],
   "source": [
    "fib(1)"
   ]
  },
  {
   "cell_type": "code",
   "execution_count": 3,
   "metadata": {
    "collapsed": true
   },
   "outputs": [],
   "source": [
    "q=[]\n",
    "for i in range(1,11):\n",
    "    q.append(fib(i+1)/fib(i))"
   ]
  },
  {
   "cell_type": "code",
   "execution_count": 4,
   "metadata": {
    "collapsed": false
   },
   "outputs": [
    {
     "data": {
      "text/plain": [
       "[1.0,\n",
       " 2.0,\n",
       " 1.5,\n",
       " 1.6666666666666667,\n",
       " 1.6,\n",
       " 1.625,\n",
       " 1.6153846153846154,\n",
       " 1.619047619047619,\n",
       " 1.6176470588235294,\n",
       " 1.6181818181818182]"
      ]
     },
     "execution_count": 4,
     "metadata": {},
     "output_type": "execute_result"
    }
   ],
   "source": [
    "q"
   ]
  },
  {
   "cell_type": "code",
   "execution_count": 5,
   "metadata": {
    "collapsed": true
   },
   "outputs": [],
   "source": [
    "%matplotlib inline\n",
    "from matplotlib import pyplot as plt\n",
    "import numpy as np"
   ]
  },
  {
   "cell_type": "code",
   "execution_count": 6,
   "metadata": {
    "collapsed": false
   },
   "outputs": [
    {
     "data": {
      "text/plain": [
       "2.718281828459045"
      ]
     },
     "execution_count": 6,
     "metadata": {},
     "output_type": "execute_result"
    }
   ],
   "source": [
    "np.e"
   ]
  },
  {
   "cell_type": "code",
   "execution_count": 7,
   "metadata": {
    "collapsed": false
   },
   "outputs": [
    {
     "data": {
      "text/plain": [
       "3.141592653589793"
      ]
     },
     "execution_count": 7,
     "metadata": {},
     "output_type": "execute_result"
    }
   ],
   "source": [
    "np.pi"
   ]
  },
  {
   "cell_type": "code",
   "execution_count": 8,
   "metadata": {
    "collapsed": true
   },
   "outputs": [],
   "source": [
    "x =np.linspace(0,10,num=10)"
   ]
  },
  {
   "cell_type": "code",
   "execution_count": 9,
   "metadata": {
    "collapsed": false
   },
   "outputs": [
    {
     "name": "stdout",
     "output_type": "stream",
     "text": [
      "[  0.           1.11111111   2.22222222   3.33333333   4.44444444\n",
      "   5.55555556   6.66666667   7.77777778   8.88888889  10.        ]\n"
     ]
    }
   ],
   "source": [
    "print(x)"
   ]
  },
  {
   "cell_type": "code",
   "execution_count": 10,
   "metadata": {
    "collapsed": false
   },
   "outputs": [
    {
     "data": {
      "text/plain": [
       "[<matplotlib.lines.Line2D at 0x10ac0a3c8>]"
      ]
     },
     "execution_count": 10,
     "metadata": {},
     "output_type": "execute_result"
    },
    {
     "data": {
      "image/png": "[encoded data removed]",
      "text/plain": [
       "<matplotlib.figure.Figure at 0x10acb5668>"
      ]
     },
     "metadata": {},
     "output_type": "display_data"
    }
   ],
   "source": [
    "plt.grid(color='orange', linestyle='--', linewidth=.2)\n",
    "x =np.linspace(0,10,num=10)\n",
    "plt.grid(True)\n",
    "plt.plot(x,q,'r-o',color=(0,.7,.7))\n"
   ]
  },
  {
   "cell_type": "code",
   "execution_count": 11,
   "metadata": {
    "collapsed": true
   },
   "outputs": [],
   "source": [
    "φ = (1+np.sqrt(5))/2"
   ]
  },
  {
   "cell_type": "code",
   "execution_count": 12,
   "metadata": {
    "collapsed": false
   },
   "outputs": [
    {
     "data": {
      "text/plain": [
       "[<matplotlib.lines.Line2D at 0x10d6c1978>]"
      ]
     },
     "execution_count": 12,
     "metadata": {},
     "output_type": "execute_result"
    },
    {
     "data": {
      "image/png": "[encoded data removed]",
      "text/plain": [
       "<matplotlib.figure.Figure at 0x10acc64e0>"
      ]
     },
     "metadata": {},
     "output_type": "display_data"
    }
   ],
   "source": [
    "plt.grid(color='orange', linestyle='--', linewidth=.2)\n",
    "x =np.linspace(0,10,num=10)\n",
    "plt.grid(True)\n",
    "plt.plot(x,q,'r-o',color=(0,.7,.7))\n",
    "plt.plot([0,10],[φ,φ], color ='blue', linewidth=1.5, linestyle=\"--\")\n"
   ]
  },
  {
   "cell_type": "code",
   "execution_count": 13,
   "metadata": {
    "collapsed": true
   },
   "outputs": [],
   "source": [
    "q=[]\n",
    "a=2\n",
    "for i in range(1,11):\n",
    "    q.append(fib(i+a)/fib(i))"
   ]
  },
  {
   "cell_type": "code",
   "execution_count": 14,
   "metadata": {
    "collapsed": false
   },
   "outputs": [
    {
     "data": {
      "text/plain": [
       "[2.0,\n",
       " 3.0,\n",
       " 2.5,\n",
       " 2.6666666666666665,\n",
       " 2.6,\n",
       " 2.625,\n",
       " 2.6153846153846154,\n",
       " 2.619047619047619,\n",
       " 2.6176470588235294,\n",
       " 2.618181818181818]"
      ]
     },
     "execution_count": 14,
     "metadata": {},
     "output_type": "execute_result"
    }
   ],
   "source": [
    "q"
   ]
  },
  {
   "cell_type": "code",
   "execution_count": 15,
   "metadata": {
    "collapsed": false
   },
   "outputs": [
    {
     "data": {
      "text/plain": [
       "<matplotlib.text.Annotation at 0x10acecac8>"
      ]
     },
     "execution_count": 15,
     "metadata": {},
     "output_type": "execute_result"
    },
    {
     "data": {
      "image/png": "[encoded data removed]",
      "text/plain": [
       "<matplotlib.figure.Figure at 0x10acda400>"
      ]
     },
     "metadata": {},
     "output_type": "display_data"
    }
   ],
   "source": [
    "t = ((1+np.sqrt(5))/2)**a\n",
    "\n",
    "plt.grid(color='orange', linestyle='--', linewidth=.2)\n",
    "x =np.linspace(0,10,num=10)\n",
    "plt.grid(True)\n",
    "plt.plot(x,q,'r-o',color=(0,.7,.7))\n",
    "plt.plot([0,10],[t,t], color ='blue', linewidth=1.5, linestyle=\"--\")   \n",
    "plt.annotate(r'$\\varphi^{0}$'.format(a),\n",
    "             xy=(10, t), xycoords='data',\n",
    "             xytext=(+10, +30), textcoords='offset points', fontsize=16,\n",
    "             arrowprops = dict(arrowstyle=\"->\", connectionstyle=\"arc3,rad=.2\"))\n",
    "\n"
   ]
  },
  {
   "cell_type": "code",
   "execution_count": 16,
   "metadata": {
    "collapsed": false
   },
   "outputs": [],
   "source": [
    "def fib_a(a):\n",
    "    q=[]\n",
    "    for i in range(1,11):\n",
    "        q.append(fib(i+a)/fib(i))\n",
    "    t = ((1+np.sqrt(5))/2)**a\n",
    "\n",
    "    plt.grid(color='orange', linestyle='--', linewidth=.2)\n",
    "    x =np.linspace(0,10,num=10)\n",
    "    plt.grid(True)\n",
    "    plt.plot(x,q,'r-o',color=(0,.7,.7))\n",
    "    plt.plot([0,10],[t,t], color ='blue', linewidth=1.5, linestyle=\"--\")\n",
    "    plt.annotate(r'$\\varphi^{0}$'.format(a),\n",
    "             xy=(10, t), xycoords='data',\n",
    "             xytext=(+10, +30), textcoords='offset points', fontsize=16,\n",
    "             arrowprops=dict(arrowstyle=\"->\", connectionstyle=\"arc3,rad=.2\"))\n",
    "    plt.ylim(0,13)\n",
    "    plt.title(u'fib quotient')\n",
    "    plt.show()\n",
    "    "
   ]
  },
  {
   "cell_type": "code",
   "execution_count": 37,
   "metadata": {
    "collapsed": false
   },
   "outputs": [],
   "source": [
    "from IPython.html.widgets import interact"
   ]
  },
  {
   "cell_type": "code",
   "execution_count": 18,
   "metadata": {
    "collapsed": false
   },
   "outputs": [
    {
     "data": {
      "image/png": "[encoded data removed]",
      "text/plain": [
       "<matplotlib.figure.Figure at 0x10dd811d0>"
      ]
     },
     "metadata": {},
     "output_type": "display_data"
    }
   ],
   "source": [
    "interact(fib_a,a= (1 ,5))"
   ]
  },
  {
   "cell_type": "markdown",
   "metadata": {},
   "source": [
    "# Generators"
   ]
  },
  {
   "cell_type": "code",
   "execution_count": 19,
   "metadata": {
    "collapsed": true
   },
   "outputs": [],
   "source": [
    "a,b = 1,3"
   ]
  },
  {
   "cell_type": "code",
   "execution_count": 20,
   "metadata": {
    "collapsed": false
   },
   "outputs": [
    {
     "data": {
      "text/plain": [
       "1"
      ]
     },
     "execution_count": 20,
     "metadata": {},
     "output_type": "execute_result"
    }
   ],
   "source": [
    "a"
   ]
  },
  {
   "cell_type": "code",
   "execution_count": 21,
   "metadata": {
    "collapsed": false
   },
   "outputs": [
    {
     "data": {
      "text/plain": [
       "3"
      ]
     },
     "execution_count": 21,
     "metadata": {},
     "output_type": "execute_result"
    }
   ],
   "source": [
    "b"
   ]
  },
  {
   "cell_type": "code",
   "execution_count": 22,
   "metadata": {
    "collapsed": true
   },
   "outputs": [],
   "source": [
    "def fib2(max):\n",
    "    x,y = 0,1\n",
    "    while x < max:\n",
    "        yield x\n",
    "        x,y = y, x+y"
   ]
  },
  {
   "cell_type": "code",
   "execution_count": 23,
   "metadata": {
    "collapsed": false
   },
   "outputs": [
    {
     "name": "stdout",
     "output_type": "stream",
     "text": [
      "0,1,1,2,3,5,8,13,21,34,55,89,"
     ]
    }
   ],
   "source": [
    "for n in fib2(100):\n",
    "    print(n,end=\",\")"
   ]
  },
  {
   "cell_type": "code",
   "execution_count": 24,
   "metadata": {
    "collapsed": false
   },
   "outputs": [
    {
     "data": {
      "text/plain": [
       "[<matplotlib.lines.Line2D at 0x10db0b940>]"
      ]
     },
     "execution_count": 24,
     "metadata": {},
     "output_type": "execute_result"
    },
    {
     "data": {
      "image/png": "[encoded data removed]",
      "text/plain": [
       "<matplotlib.figure.Figure at 0x10db0b978>"
      ]
     },
     "metadata": {},
     "output_type": "display_data"
    }
   ],
   "source": [
    "s=list(fib2(35))\n",
    "plt.grid(color='orange', linestyle='--', linewidth=.2)\n",
    "x =np.linspace(0,10,num=10)\n",
    "plt.grid(True)\n",
    "plt.plot(x,s,'r-o',color=(0,.7,.7))\n"
   ]
  },
  {
   "cell_type": "markdown",
   "metadata": {},
   "source": [
    "# Fibonacci with numpy matrix"
   ]
  },
  {
   "cell_type": "code",
   "execution_count": 25,
   "metadata": {
    "collapsed": false
   },
   "outputs": [],
   "source": [
    "f=[0,1]\n",
    "itr=10\n",
    "M=np.array([[1,1], [1,0]])\n",
    "current=np.matrix([f[1],f[0]])\n",
    "for i in range(1,itr+1):\n",
    "    current=current.dot(M)\n",
    "    f.append(current.item(0))"
   ]
  },
  {
   "cell_type": "code",
   "execution_count": 26,
   "metadata": {
    "collapsed": false
   },
   "outputs": [
    {
     "data": {
      "text/plain": [
       "[0, 1, 1, 2, 3, 5, 8, 13, 21, 34, 55, 89]"
      ]
     },
     "execution_count": 26,
     "metadata": {},
     "output_type": "execute_result"
    }
   ],
   "source": [
    "f"
   ]
  },
  {
   "cell_type": "markdown",
   "metadata": {},
   "source": [
    "# Python dictionary"
   ]
  },
  {
   "cell_type": "code",
   "execution_count": 27,
   "metadata": {
    "collapsed": true
   },
   "outputs": [],
   "source": [
    "tinydict = {'name': 'john','code':6734, 'dept': 'sales'}"
   ]
  },
  {
   "cell_type": "code",
   "execution_count": 28,
   "metadata": {
    "collapsed": false
   },
   "outputs": [
    {
     "data": {
      "text/plain": [
       "'john'"
      ]
     },
     "execution_count": 28,
     "metadata": {},
     "output_type": "execute_result"
    }
   ],
   "source": [
    "tinydict[\"name\"]"
   ]
  },
  {
   "cell_type": "code",
   "execution_count": 29,
   "metadata": {
    "collapsed": false
   },
   "outputs": [
    {
     "data": {
      "text/plain": [
       "6734"
      ]
     },
     "execution_count": 29,
     "metadata": {},
     "output_type": "execute_result"
    }
   ],
   "source": [
    "tinydict[\"code\"]"
   ]
  },
  {
   "cell_type": "code",
   "execution_count": 30,
   "metadata": {
    "collapsed": false
   },
   "outputs": [
    {
     "name": "stdout",
     "output_type": "stream",
     "text": [
      "dict_keys(['dept', 'code', 'name'])\n"
     ]
    }
   ],
   "source": [
    "print (tinydict.keys()) "
   ]
  },
  {
   "cell_type": "code",
   "execution_count": 31,
   "metadata": {
    "collapsed": false
   },
   "outputs": [
    {
     "name": "stdout",
     "output_type": "stream",
     "text": [
      "dict_values(['sales', 6734, 'john'])\n"
     ]
    }
   ],
   "source": [
    "print (tinydict.values())"
   ]
  },
  {
   "cell_type": "code",
   "execution_count": 32,
   "metadata": {
    "collapsed": false
   },
   "outputs": [
    {
     "data": {
      "image/png": "[encoded data removed]",
      "text/plain": [
       "<matplotlib.figure.Figure at 0x10dd81240>"
      ]
     },
     "metadata": {},
     "output_type": "display_data"
    }
   ],
   "source": [
    "plt.figure(figsize=(8,5), dpi=80)\n",
    "ax = plt.subplot(111)\n",
    "ax.spines['right'].set_color('none')\n",
    "ax.spines['top'].set_color('none')\n",
    "ax.xaxis.set_ticks_position('bottom')\n",
    "ax.spines['bottom'].set_position(('data',0))\n",
    "ax.yaxis.set_ticks_position('left')\n",
    "ax.spines['left'].set_position(('data',0))\n",
    "\n",
    "X = np.linspace(-np.pi, np.pi, 256,endpoint=True)\n",
    "C,S = np.cos(X), np.sin(X)\n",
    "\n",
    "plt.plot(X, C, color=\"blue\", linewidth=2.5, linestyle=\"-\", label=\"cosine\")\n",
    "plt.plot(X, S, color=\"red\", linewidth=2.5, linestyle=\"-\",  label=\"sine\")\n",
    "\n",
    "plt.xlim(X.min()*1.1, X.max()*1.1)\n",
    "plt.xticks([-np.pi, -np.pi/2, 0, np.pi/2, np.pi],\n",
    "           [r'$-\\pi$', r'$-\\pi/2$', r'$0$', r'$+\\pi/2$', r'$+\\pi$'])\n",
    "\n",
    "plt.ylim(C.min()*1.1,C.max()*1.1)\n",
    "plt.yticks([-1, +1],\n",
    "           [r'$-1$', r'$+1$'])\n",
    "\n",
    "t = 2*np.pi/3\n",
    "plt.plot([t,t],[0,np.cos(t)],\n",
    "         color ='blue',  linewidth=1.5, linestyle=\"--\")\n",
    "plt.scatter([t,],[np.cos(t),], 50, color ='blue')\n",
    "plt.annotate(r'$\\sin(\\frac{2\\pi}{3})=\\frac{\\sqrt{3}}{2}$',\n",
    "             xy=(t, np.sin(t)),  xycoords='data',\n",
    "             xytext=(+10, +30), textcoords='offset points', fontsize=16,\n",
    "             arrowprops=dict(arrowstyle=\"->\", connectionstyle=\"arc3,rad=.2\"))\n",
    "\n",
    "plt.plot([t,t],[0,np.sin(t)],\n",
    "         color ='red',  linewidth=1.5, linestyle=\"--\")\n",
    "plt.scatter([t,],[np.sin(t),], 50, color ='red')\n",
    "plt.annotate(r'$\\cos(\\frac{2\\pi}{3})=-\\frac{1}{2}$',\n",
    "             xy=(t, np.cos(t)),  xycoords='data',\n",
    "             xytext=(-90, -50), textcoords='offset points', fontsize=16,\n",
    "             arrowprops=dict(arrowstyle=\"->\", connectionstyle=\"arc3,rad=.2\"))\n",
    "\n",
    "plt.legend(loc='upper left', frameon=False)\n",
    "# plt.savefig(\"../figures/exercice_9.png\",dpi=72)\n",
    "plt.show()"
   ]
  },
  {
   "cell_type": "markdown",
   "metadata": {
    "collapsed": true
   },
   "source": [
    "# Interseccion dos rectas"
   ]
  },
  {
   "cell_type": "markdown",
   "metadata": {},
   "source": [
    "$l_{1}=  \\left(  \\begin{array}{c}    x_1 \\\\  y_1 \\end{array}  \\right) + a \\left(  \\begin{array}{c}    u_1 \\\\  v_1 \\end{array}  \\right)$\n",
    "\n",
    "$l_{2}=  \\left(  \\begin{array}{c}    x_2 \\\\  y_2 \\end{array}  \\right) + b \\left(  \\begin{array}{c}    u_2 \\\\  v_2 \\end{array}  \\right)$\n",
    "\n",
    "<br>\n",
    "$ \\Delta x : x_2 - x_1$\n",
    "\n",
    "$ \\Delta y : y_2 - y_1$\n",
    "\n",
    "<br>\n",
    "\n",
    "\n",
    " $ \\left[\\begin{matrix}  u_1 & -u_2 \\\\  v_1 & -v_2  \\end{matrix}\\right] . \\left[\\begin{matrix}  a \\\\ b  \\end{matrix}\\right] =\n",
    " \\left[\\begin{matrix}  \\Delta x \\\\ \\Delta y  \\end{matrix}\\right]$ \n",
    " \n",
    "<br>\n",
    "\n",
    "$D = det\\left[\\begin{matrix}  u_1 & -u_2 \\\\  v_1 & -v_2  \\end{matrix}\\right]$\n",
    "\n",
    "$D_x = det\\left[\\begin{matrix}  \\Delta x & -u_2 \\\\  \\Delta y & -v_2  \\end{matrix}\\right]$\n",
    "\n",
    "$D_y = det\\left[\\begin{matrix}  u_1 & \\Delta x \\\\  v_1 & \\Delta y  \\end{matrix}\\right]$\n",
    "\n",
    "<br>\n",
    "\n",
    "$a = \\frac{D_x}{D}$\n",
    "\n",
    "$b = \\frac{D_y}{D}$"
   ]
  },
  {
   "cell_type": "code",
   "execution_count": 33,
   "metadata": {
    "collapsed": false
   },
   "outputs": [
    {
     "name": "stdout",
     "output_type": "stream",
     "text": [
      "0.298969072165 -0.422680412371\n",
      "0.309278350515 0.19587628866\n"
     ]
    }
   ],
   "source": [
    "import numpy as np\n",
    "x1=3\n",
    "y1=-1\n",
    "u1=-9\n",
    "v1=4\n",
    "\n",
    "x2=2\n",
    "y2=4\n",
    "u2=4\n",
    "v2=9\n",
    "\n",
    "dx=x2-x1\n",
    "dy=y2-y1\n",
    "\n",
    "D = np.array([[u1,-u2],\n",
    "              [v1, -v2,]])\n",
    "\n",
    "\n",
    "Dx = np.array([[dx,-u2],\n",
    "              [dy, -v2,]])\n",
    "\n",
    "\n",
    "Dy = np.array([[u1,dx],\n",
    "              [v1, dy,]])\n",
    "\n",
    "\n",
    "a=np.linalg.det(Dx)/np.linalg.det(D)\n",
    "b=np.linalg.det(Dy)/np.linalg.det(D)\n",
    "print(a,b)\n",
    "\n",
    "x=x1+a*u1\n",
    "y=y1+a*v1\n",
    "print(x,y)"
   ]
  },
  {
   "cell_type": "code",
   "execution_count": 34,
   "metadata": {
    "collapsed": false
   },
   "outputs": [
    {
     "name": "stdout",
     "output_type": "stream",
     "text": [
      "0.29896907216494845 -0.422680412371134\n",
      "0.30927835051546393 0.1958762886597938\n"
     ]
    }
   ],
   "source": [
    "print(29/97,-41/97)\n",
    "print(30/97,19/97)"
   ]
  },
  {
   "cell_type": "code",
   "execution_count": 35,
   "metadata": {
    "collapsed": false
   },
   "outputs": [
    {
     "name": "stdout",
     "output_type": "stream",
     "text": [
      "[ 0.29896907 -0.42268041]\n"
     ]
    }
   ],
   "source": [
    "x1=3\n",
    "y1=-1\n",
    "u1=-9\n",
    "v1=4\n",
    "\n",
    "x2=2\n",
    "y2=4\n",
    "u2=4\n",
    "v2=9\n",
    "\n",
    "dx=x2-x1\n",
    "dy=y2-y1\n",
    "\n",
    "D = np.array([[u1,-u2],\n",
    "              [v1, -v2]])\n",
    "b=np.array([dx, dy])\n",
    "x = np.linalg.solve(D, b)\n",
    "print(x)"
   ]
  },
  {
   "cell_type": "markdown",
   "metadata": {},
   "source": [
    "# Solución de Sistemas de ecuaciones "
   ]
  },
  {
   "cell_type": "markdown",
   "metadata": {},
   "source": [
    "Consideremos el siguiente sistema de ecuaciones \n",
    "\n",
    "$x+2y+3z=6$\n",
    "\n",
    "$2x+5y+2z=4$\n",
    "\n",
    "$6x−3y+z=2$"
   ]
  },
  {
   "cell_type": "code",
   "execution_count": 36,
   "metadata": {
    "collapsed": false
   },
   "outputs": [
    {
     "data": {
      "text/plain": [
       "array([ True,  True,  True], dtype=bool)"
      ]
     },
     "execution_count": 36,
     "metadata": {},
     "output_type": "execute_result"
    }
   ],
   "source": [
    "# Creando matriz de coeficientes\n",
    "A=np.array([[1, 2, 3], [2, 5, 2], [6, -3, 1]])\n",
    "\n",
    "# declarando el vector de resultados\n",
    "b=np.array([6, 4, 2])\n",
    "\n",
    "# Resolviendo sistema de ecuaciones\n",
    "x = np.linalg.solve(A, b)\n",
    "\n",
    "# Comprobando la solucion\n",
    "A.dot(x) == b"
   ]
  },
  {
   "cell_type": "code",
   "execution_count": null,
   "metadata": {
    "collapsed": true
   },
   "outputs": [],
   "source": []
  }
 ],
 "metadata": {
  "anaconda-cloud": {},
  "kernelspec": {
   "display_name": "Python [conda root]",
   "language": "python",
   "name": "conda-root-py"
  },
  "language_info": {
   "codemirror_mode": {
    "name": "ipython",
    "version": 3
   },
   "file_extension": ".py",
   "mimetype": "text/x-python",
   "name": "python",
   "nbconvert_exporter": "python",
   "pygments_lexer": "ipython3",
   "version": "3.5.2"
  },
  "widgets": {
   "state": {
    "6bcac94bb4c948feaa0ef95895dfcf6e": {
     "views": [
      {
       "cell_index": 19
      }
     ]
    }
   },
   "version": "1.2.0"
  }
 },
 "nbformat": 4,
 "nbformat_minor": 1
}
